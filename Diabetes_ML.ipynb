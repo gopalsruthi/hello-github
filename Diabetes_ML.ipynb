{
  "nbformat": 4,
  "nbformat_minor": 0,
  "metadata": {
    "colab": {
      "name": "Diabetes-ML.ipynb",
      "version": "0.3.2",
      "provenance": [],
      "collapsed_sections": [],
      "include_colab_link": true
    },
    "kernelspec": {
      "name": "python3",
      "display_name": "Python 3"
    }
  },
  "cells": [
    {
      "cell_type": "markdown",
      "metadata": {
        "id": "view-in-github",
        "colab_type": "text"
      },
      "source": [
        "<a href=\"https://colab.research.google.com/github/gopalsruthi/hello-github/blob/master/Diabetes_ML.ipynb\" target=\"_parent\"><img src=\"https://colab.research.google.com/assets/colab-badge.svg\" alt=\"Open In Colab\"/></a>"
      ]
    },
    {
      "cell_type": "code",
      "metadata": {
        "id": "0saXfIcHTgQX",
        "colab_type": "code",
        "colab": {}
      },
      "source": [
        "import numpy as np\n",
        "import pandas as pd\n",
        "import io\n",
        "import matplotlib as mpl\n",
        "import matplotlib.pyplot as plt\n",
        "import seaborn as sns    \n",
        "from pandas.api.types import CategoricalDtype \n",
        "\n",
        "from sklearn.preprocessing import Imputer, MinMaxScaler\n",
        "from sklearn.svm import SVC\n",
        "from sklearn.metrics import confusion_matrix, accuracy_score, classification_report, roc_curve, auc\n",
        "from sklearn.model_selection import train_test_split, GridSearchCV, cross_val_score"
      ],
      "execution_count": 0,
      "outputs": []
    },
    {
      "cell_type": "markdown",
      "metadata": {
        "id": "BKIRwVjzSTsr",
        "colab_type": "text"
      },
      "source": [
        "**Step 1: Uploading CSV file to colab notebook**"
      ]
    },
    {
      "cell_type": "code",
      "metadata": {
        "id": "azVM3oEZ1isg",
        "colab_type": "code",
        "outputId": "7c9ec252-0649-4a12-b7e2-534dc08a7c9a",
        "colab": {
          "base_uri": "https://localhost:8080/",
          "height": 122
        }
      },
      "source": [
        "from google.colab import drive\n",
        "drive.mount('/gdrive', force_remount=True)"
      ],
      "execution_count": 2,
      "outputs": [
        {
          "output_type": "stream",
          "text": [
            "Go to this URL in a browser: https://accounts.google.com/o/oauth2/auth?client_id=947318989803-6bn6qk8qdgf4n4g3pfee6491hc0brc4i.apps.googleusercontent.com&redirect_uri=urn%3Aietf%3Awg%3Aoauth%3A2.0%3Aoob&scope=email%20https%3A%2F%2Fwww.googleapis.com%2Fauth%2Fdocs.test%20https%3A%2F%2Fwww.googleapis.com%2Fauth%2Fdrive%20https%3A%2F%2Fwww.googleapis.com%2Fauth%2Fdrive.photos.readonly%20https%3A%2F%2Fwww.googleapis.com%2Fauth%2Fpeopleapi.readonly&response_type=code\n",
            "\n",
            "Enter your authorization code:\n",
            "··········\n",
            "Mounted at /gdrive\n"
          ],
          "name": "stdout"
        }
      ]
    },
    {
      "cell_type": "code",
      "metadata": {
        "id": "CHtvW1BB2e6c",
        "colab_type": "code",
        "outputId": "fc9ef430-0703-4408-88a9-913b2e62680c",
        "colab": {
          "base_uri": "https://localhost:8080/",
          "height": 34
        }
      },
      "source": [
        "path = \"/gdrive/My Drive/Colab Notebooks/diabetes2cleaned.csv\"\n",
        "import os;os.path.exists(path)"
      ],
      "execution_count": 3,
      "outputs": [
        {
          "output_type": "execute_result",
          "data": {
            "text/plain": [
              "True"
            ]
          },
          "metadata": {
            "tags": []
          },
          "execution_count": 3
        }
      ]
    },
    {
      "cell_type": "markdown",
      "metadata": {
        "id": "WTw5xvqISeMg",
        "colab_type": "text"
      },
      "source": [
        "**Step 2: Saving the CSV file as a pandas dataframe**"
      ]
    },
    {
      "cell_type": "code",
      "metadata": {
        "id": "R6hiblkgVSFH",
        "colab_type": "code",
        "outputId": "aba5ed51-4efc-45c7-d674-4dd66370aa57",
        "colab": {
          "base_uri": "https://localhost:8080/",
          "height": 204
        }
      },
      "source": [
        "\n",
        "import pandas as pd\n",
        "diab = pd.read_csv(path, index_col=0)\n",
        "diab.head()\n"
      ],
      "execution_count": 4,
      "outputs": [
        {
          "output_type": "execute_result",
          "data": {
            "text/html": [
              "<div>\n",
              "<style scoped>\n",
              "    .dataframe tbody tr th:only-of-type {\n",
              "        vertical-align: middle;\n",
              "    }\n",
              "\n",
              "    .dataframe tbody tr th {\n",
              "        vertical-align: top;\n",
              "    }\n",
              "\n",
              "    .dataframe thead th {\n",
              "        text-align: right;\n",
              "    }\n",
              "</style>\n",
              "<table border=\"1\" class=\"dataframe\">\n",
              "  <thead>\n",
              "    <tr style=\"text-align: right;\">\n",
              "      <th></th>\n",
              "      <th>preg</th>\n",
              "      <th>plas</th>\n",
              "      <th>pres</th>\n",
              "      <th>skin</th>\n",
              "      <th>insu</th>\n",
              "      <th>mass</th>\n",
              "      <th>pedi</th>\n",
              "      <th>age</th>\n",
              "      <th>class</th>\n",
              "    </tr>\n",
              "  </thead>\n",
              "  <tbody>\n",
              "    <tr>\n",
              "      <th>0</th>\n",
              "      <td>6</td>\n",
              "      <td>148.0</td>\n",
              "      <td>72.0</td>\n",
              "      <td>35.0</td>\n",
              "      <td>NaN</td>\n",
              "      <td>33.6</td>\n",
              "      <td>0.627</td>\n",
              "      <td>50</td>\n",
              "      <td>1</td>\n",
              "    </tr>\n",
              "    <tr>\n",
              "      <th>1</th>\n",
              "      <td>1</td>\n",
              "      <td>85.0</td>\n",
              "      <td>66.0</td>\n",
              "      <td>29.0</td>\n",
              "      <td>NaN</td>\n",
              "      <td>26.6</td>\n",
              "      <td>0.351</td>\n",
              "      <td>31</td>\n",
              "      <td>0</td>\n",
              "    </tr>\n",
              "    <tr>\n",
              "      <th>2</th>\n",
              "      <td>8</td>\n",
              "      <td>183.0</td>\n",
              "      <td>64.0</td>\n",
              "      <td>NaN</td>\n",
              "      <td>NaN</td>\n",
              "      <td>23.3</td>\n",
              "      <td>0.672</td>\n",
              "      <td>32</td>\n",
              "      <td>1</td>\n",
              "    </tr>\n",
              "    <tr>\n",
              "      <th>3</th>\n",
              "      <td>1</td>\n",
              "      <td>89.0</td>\n",
              "      <td>66.0</td>\n",
              "      <td>23.0</td>\n",
              "      <td>94.0</td>\n",
              "      <td>28.1</td>\n",
              "      <td>0.167</td>\n",
              "      <td>21</td>\n",
              "      <td>0</td>\n",
              "    </tr>\n",
              "    <tr>\n",
              "      <th>4</th>\n",
              "      <td>0</td>\n",
              "      <td>137.0</td>\n",
              "      <td>40.0</td>\n",
              "      <td>35.0</td>\n",
              "      <td>168.0</td>\n",
              "      <td>43.1</td>\n",
              "      <td>2.288</td>\n",
              "      <td>33</td>\n",
              "      <td>1</td>\n",
              "    </tr>\n",
              "  </tbody>\n",
              "</table>\n",
              "</div>"
            ],
            "text/plain": [
              "   preg   plas  pres  skin   insu  mass   pedi  age  class\n",
              "0     6  148.0  72.0  35.0    NaN  33.6  0.627   50      1\n",
              "1     1   85.0  66.0  29.0    NaN  26.6  0.351   31      0\n",
              "2     8  183.0  64.0   NaN    NaN  23.3  0.672   32      1\n",
              "3     1   89.0  66.0  23.0   94.0  28.1  0.167   21      0\n",
              "4     0  137.0  40.0  35.0  168.0  43.1  2.288   33      1"
            ]
          },
          "metadata": {
            "tags": []
          },
          "execution_count": 4
        }
      ]
    },
    {
      "cell_type": "markdown",
      "metadata": {
        "id": "QqfFBdZESk3u",
        "colab_type": "text"
      },
      "source": [
        "**Step 3: Deleting 'skin' and 'insu' columns as they are highly correlated and have a large number of NAs**"
      ]
    },
    {
      "cell_type": "code",
      "metadata": {
        "id": "65Ejsi8ZFYHp",
        "colab_type": "code",
        "outputId": "ce15f1a4-7d3d-4c1d-fdc7-79170f7c8b97",
        "colab": {
          "base_uri": "https://localhost:8080/",
          "height": 221
        }
      },
      "source": [
        "print(diab.corr())\n",
        "diab.isna().sum()\n",
        "del diab['skin']\n",
        "del diab['insu']"
      ],
      "execution_count": 5,
      "outputs": [
        {
          "output_type": "stream",
          "text": [
            "           preg      plas      pres  ...      pedi       age     class\n",
            "preg   1.000000  0.128135  0.214178  ... -0.033523  0.544341  0.221898\n",
            "plas   0.128135  1.000000  0.223192  ...  0.137246  0.267136  0.494650\n",
            "pres   0.214178  0.223192  1.000000  ... -0.002805  0.330107  0.170589\n",
            "skin   0.100239  0.228043  0.226839  ...  0.115016  0.166816  0.259491\n",
            "insu   0.082171  0.581186  0.098272  ...  0.130395  0.220261  0.303454\n",
            "mass   0.021719  0.232771  0.289230  ...  0.155382  0.025841  0.313680\n",
            "pedi  -0.033523  0.137246 -0.002805  ...  1.000000  0.033561  0.173844\n",
            "age    0.544341  0.267136  0.330107  ...  0.033561  1.000000  0.238356\n",
            "class  0.221898  0.494650  0.170589  ...  0.173844  0.238356  1.000000\n",
            "\n",
            "[9 rows x 9 columns]\n"
          ],
          "name": "stdout"
        }
      ]
    },
    {
      "cell_type": "markdown",
      "metadata": {
        "id": "r5laNWg7SzeJ",
        "colab_type": "text"
      },
      "source": [
        "**Step 4: Splitting data into training and testing. The ratio of training to testing data is split into the ratio of 80:20. Stratification enables the train_test_split function to return training and testing subsets to have same proportion of class labels as the input dataset**"
      ]
    },
    {
      "cell_type": "code",
      "metadata": {
        "id": "A0DHzzTYV488",
        "colab_type": "code",
        "colab": {}
      },
      "source": [
        "X = diab.drop(labels=['class'], axis=1) #X contains all columns except class  \n",
        "#print (X)\n",
        "y = diab.loc[:,'class'] #y contains only the class column\n",
        "#print (y)\n",
        "\n",
        "X_train, X_test, y_train, y_test = train_test_split(X, y, test_size=0.2, random_state=1,stratify=y)\n",
        "\n"
      ],
      "execution_count": 0,
      "outputs": []
    },
    {
      "cell_type": "markdown",
      "metadata": {
        "id": "wEoXzrkGT2Hw",
        "colab_type": "text"
      },
      "source": [
        "**Step 5: The imputer function replaces the missing values with the medians throughout the columns. The training set is fitted and transformed and test set is transformed to fit the training set**"
      ]
    },
    {
      "cell_type": "code",
      "metadata": {
        "id": "DpPAs8OnLMxS",
        "colab_type": "code",
        "outputId": "3000fde9-610e-498a-a939-e8462126085a",
        "colab": {
          "base_uri": "https://localhost:8080/",
          "height": 71
        }
      },
      "source": [
        "imp_x = Imputer(missing_values='NaN', strategy='median', axis=0) \n",
        "X_train = imp_x.fit_transform(X_train)\n",
        "X_test = imp_x.transform(X_test)\n",
        "#print(len(y_train))"
      ],
      "execution_count": 8,
      "outputs": [
        {
          "output_type": "stream",
          "text": [
            "/usr/local/lib/python3.6/dist-packages/sklearn/utils/deprecation.py:66: DeprecationWarning: Class Imputer is deprecated; Imputer was deprecated in version 0.20 and will be removed in 0.22. Import impute.SimpleImputer from sklearn instead.\n",
            "  warnings.warn(msg, category=DeprecationWarning)\n"
          ],
          "name": "stderr"
        }
      ]
    },
    {
      "cell_type": "markdown",
      "metadata": {
        "id": "30jZkUfMUJRE",
        "colab_type": "text"
      },
      "source": [
        "**Step 6: The data is scaled using Min Max Scalar**"
      ]
    },
    {
      "cell_type": "code",
      "metadata": {
        "id": "c8utofoQLfIJ",
        "colab_type": "code",
        "colab": {}
      },
      "source": [
        "\n",
        "min_max_scaler = MinMaxScaler()\n",
        "X_train_minmax = min_max_scaler.fit_transform(X_train) #Training set gets fit and transformed.\n",
        "X_test_minmax = min_max_scaler.transform(X_test)#Test set is only transformed.\n"
      ],
      "execution_count": 0,
      "outputs": []
    },
    {
      "cell_type": "markdown",
      "metadata": {
        "id": "QOJuSYjZUZ1_",
        "colab_type": "text"
      },
      "source": [
        "**Step 7: The machine learning technique used to train the model and predict on test set is Random Forest technique. The accuracy of training is 0.99 whereas the accuracy on testing is 0.72**"
      ]
    },
    {
      "cell_type": "code",
      "metadata": {
        "id": "aHNe91uaJVba",
        "colab_type": "code",
        "outputId": "ccaa020f-de99-4121-bf19-e0d545b65a0b",
        "colab": {
          "base_uri": "https://localhost:8080/",
          "height": 105
        }
      },
      "source": [
        "from sklearn.ensemble import RandomForestClassifier\n",
        "\n",
        "model = RandomForestClassifier()\n",
        "model.fit(X_train_minmax, y_train)\n",
        "\n",
        "y_pred = model.predict(X_test_minmax)\n",
        "#print(X_test_minmax)\n",
        "#print(y_test)\n",
        "\n",
        "# evaluating the model\n",
        "print(\"Training Accuracy :\", model.score(X_train_minmax, y_train))\n",
        "print(\"Testing Accuracy :\", model.score(X_test_minmax, y_test))\n",
        "\n"
      ],
      "execution_count": 10,
      "outputs": [
        {
          "output_type": "stream",
          "text": [
            "Training Accuracy : 0.9804560260586319\n",
            "Testing Accuracy : 0.7272727272727273\n"
          ],
          "name": "stdout"
        },
        {
          "output_type": "stream",
          "text": [
            "/usr/local/lib/python3.6/dist-packages/sklearn/ensemble/forest.py:245: FutureWarning: The default value of n_estimators will change from 10 in version 0.20 to 100 in 0.22.\n",
            "  \"10 in version 0.20 to 100 in 0.22.\", FutureWarning)\n"
          ],
          "name": "stderr"
        }
      ]
    },
    {
      "cell_type": "markdown",
      "metadata": {
        "id": "YOIfEfbHU4Lx",
        "colab_type": "text"
      },
      "source": [
        "**Step 8: A confusion matrix and classification report is generated.**"
      ]
    },
    {
      "cell_type": "code",
      "metadata": {
        "id": "Gx_j5synM0Se",
        "colab_type": "code",
        "outputId": "7bb26ee9-6c01-4490-fb5c-e15d2a2d7983",
        "colab": {
          "base_uri": "https://localhost:8080/",
          "height": 204
        }
      },
      "source": [
        "cm = confusion_matrix(y_test, y_pred)\n",
        "print (cm)\n",
        "report = classification_report(y_test, y_pred)\n",
        "print (report)"
      ],
      "execution_count": 11,
      "outputs": [
        {
          "output_type": "stream",
          "text": [
            "[[86 14]\n",
            " [28 26]]\n",
            "              precision    recall  f1-score   support\n",
            "\n",
            "           0       0.75      0.86      0.80       100\n",
            "           1       0.65      0.48      0.55        54\n",
            "\n",
            "    accuracy                           0.73       154\n",
            "   macro avg       0.70      0.67      0.68       154\n",
            "weighted avg       0.72      0.73      0.72       154\n",
            "\n"
          ],
          "name": "stdout"
        }
      ]
    },
    {
      "cell_type": "markdown",
      "metadata": {
        "id": "cWQk34IvWGXA",
        "colab_type": "text"
      },
      "source": [
        "**Step 9: AUC is being calculated, then ROC is plotted**"
      ]
    },
    {
      "cell_type": "code",
      "metadata": {
        "id": "6L0-lNlgOwgY",
        "colab_type": "code",
        "outputId": "07fe0574-e37b-4146-99b9-ee4b05ead072",
        "colab": {
          "base_uri": "https://localhost:8080/",
          "height": 34
        }
      },
      "source": [
        "probas_ = model.fit(X_train_minmax, y_train).predict_proba(X_test_minmax)\n",
        "fpr, tpr, thresholds = roc_curve(y_test, probas_[:, 1]) \n",
        "roc_auc = auc(fpr, tpr)\n",
        "print (\"AUC using predict_proba\", roc_auc)\n"
      ],
      "execution_count": 12,
      "outputs": [
        {
          "output_type": "stream",
          "text": [
            "AUC using predict_proba 0.8068518518518517\n"
          ],
          "name": "stdout"
        }
      ]
    },
    {
      "cell_type": "code",
      "metadata": {
        "id": "85qsrkfRO778",
        "colab_type": "code",
        "colab": {}
      },
      "source": [
        "%matplotlib inline"
      ],
      "execution_count": 0,
      "outputs": []
    },
    {
      "cell_type": "code",
      "metadata": {
        "id": "60Jlc-knO26x",
        "colab_type": "code",
        "outputId": "d8851a85-b40e-44b4-d8ba-f7d38d576715",
        "colab": {
          "base_uri": "https://localhost:8080/",
          "height": 295
        }
      },
      "source": [
        "\n",
        "plt.figure()\n",
        "plt.plot(fpr, tpr, label='ROC curve (area = %0.2f)' % roc_auc, lw=3, color =\"#0000ff\", marker='s',markerfacecolor=\"red\", markersize=2) \n",
        "plt.plot([0, 1], [0, 1], 'k--') \n",
        "\n",
        "plt.xlim([-0.005, 1.0]) \n",
        "plt.ylim([0.0, 1.005])   \n",
        "plt.xlabel('False Positive Rate')\n",
        "plt.ylabel('True Positive Rate')\n",
        "plt.title('Receiver operating characteristic example')\n",
        "plt.legend(loc=\"lower right\")\n",
        "plt.show()"
      ],
      "execution_count": 14,
      "outputs": [
        {
          "output_type": "display_data",
          "data": {
            "image/png": "[encoded data removed]",
            "text/plain": [
              "<Figure size 432x288 with 1 Axes>"
            ]
          },
          "metadata": {
            "tags": []
          }
        }
      ]
    },
    {
      "cell_type": "markdown",
      "metadata": {
        "id": "TQS0GO6QUhZK",
        "colab_type": "text"
      },
      "source": [
        "**Step 9: Pickling the model**"
      ]
    },
    {
      "cell_type": "code",
      "metadata": {
        "id": "3S3Ns0tDOKTk",
        "colab_type": "code",
        "colab": {}
      },
      "source": [
        "\n",
        "from sklearn.externals import joblib\n",
        "joblib.dump(model, 'diabetes_pickled.joblib')\n",
        "\n"
      ],
      "execution_count": 0,
      "outputs": []
    },
    {
      "cell_type": "code",
      "metadata": {
        "id": "uc0xrj_ztZ22",
        "colab_type": "code",
        "colab": {}
      },
      "source": [
        "clf = joblib.load('diabetes_pickled.joblib')"
      ],
      "execution_count": 0,
      "outputs": []
    },
    {
      "cell_type": "code",
      "metadata": {
        "id": "3UTmpj9zt96F",
        "colab_type": "code",
        "colab": {}
      },
      "source": [
        "adhoc_predict2 = diab[[\"preg\", \"pedi\", \"age\", \"pres\",\"plas\",\"mass\"]]\n",
        "adhoc_predict2.head()"
      ],
      "execution_count": 0,
      "outputs": []
    },
    {
      "cell_type": "code",
      "metadata": {
        "id": "tD38jZgGuHV6",
        "colab_type": "code",
        "colab": {}
      },
      "source": [
        "adhoc_predict2.dropna(inplace = True)\n",
        "clf.predict(adhoc_predict2)"
      ],
      "execution_count": 0,
      "outputs": []
    }
  ]
}