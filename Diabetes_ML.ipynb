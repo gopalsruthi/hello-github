{
  "nbformat": 4,
  "nbformat_minor": 0,
  "metadata": {
    "colab": {
      "name": "Diabetes-ML.ipynb",
      "version": "0.3.2",
      "provenance": [],
      "collapsed_sections": [],
      "include_colab_link": true
    },
    "kernelspec": {
      "name": "python3",
      "display_name": "Python 3"
    }
  },
  "cells": [
    {
      "cell_type": "markdown",
      "metadata": {
        "id": "view-in-github",
        "colab_type": "text"
      },
      "source": [
        "<a href=\"https://colab.research.google.com/github/gopalsruthi/hello-github/blob/master/Diabetes_ML.ipynb\" target=\"_parent\"><img src=\"https://colab.research.google.com/assets/colab-badge.svg\" alt=\"Open In Colab\"/></a>"
      ]
    },
    {
      "cell_type": "code",
      "metadata": {
        "id": "0saXfIcHTgQX",
        "colab_type": "code",
        "colab": {}
      },
      "source": [
        "import numpy as np\n",
        "import pandas as pd\n",
        "import io\n",
        "import matplotlib as mpl\n",
        "import matplotlib.pyplot as plt\n",
        "import seaborn as sns    \n",
        "from pandas.api.types import CategoricalDtype \n",
        "\n",
        "from sklearn.preprocessing import Imputer, MinMaxScaler\n",
        "from sklearn.svm import SVC\n",
        "from sklearn.metrics import confusion_matrix, accuracy_score, classification_report, roc_curve, auc\n",
        "from sklearn.model_selection import train_test_split, GridSearchCV, cross_val_score"
      ],
      "execution_count": 0,
      "outputs": []
    },
    {
      "cell_type": "markdown",
      "metadata": {
        "id": "BKIRwVjzSTsr",
        "colab_type": "text"
      },
      "source": [
        "**Step 1: Uploading CSV file to colab notebook**"
      ]
    },
    {
      "cell_type": "code",
      "metadata": {
        "id": "azVM3oEZ1isg",
        "colab_type": "code",
        "outputId": "ffa6c41c-7d81-4c28-f635-daa663801d33",
        "colab": {
          "base_uri": "https://localhost:8080/",
          "height": 122
        }
      },
      "source": [
        "from google.colab import drive\n",
        "drive.mount('/gdrive', force_remount=True)"
      ],
      "execution_count": 2,
      "outputs": [
        {
          "output_type": "stream",
          "text": [
            "Go to this URL in a browser: https://accounts.google.com/o/oauth2/auth?client_id=947318989803-6bn6qk8qdgf4n4g3pfee6491hc0brc4i.apps.googleusercontent.com&redirect_uri=urn%3Aietf%3Awg%3Aoauth%3A2.0%3Aoob&scope=email%20https%3A%2F%2Fwww.googleapis.com%2Fauth%2Fdocs.test%20https%3A%2F%2Fwww.googleapis.com%2Fauth%2Fdrive%20https%3A%2F%2Fwww.googleapis.com%2Fauth%2Fdrive.photos.readonly%20https%3A%2F%2Fwww.googleapis.com%2Fauth%2Fpeopleapi.readonly&response_type=code\n",
            "\n",
            "Enter your authorization code:\n",
            "··········\n",
            "Mounted at /gdrive\n"
          ],
          "name": "stdout"
        }
      ]
    },
    {
      "cell_type": "code",
      "metadata": {
        "id": "CHtvW1BB2e6c",
        "colab_type": "code",
        "outputId": "250fc239-cca1-48ab-fdd1-f5e83aece87a",
        "colab": {
          "base_uri": "https://localhost:8080/",
          "height": 34
        }
      },
      "source": [
        "path = \"/gdrive/My Drive/Colab Notebooks/diabetes2cleaned.csv\"\n",
        "import os;os.path.exists(path)"
      ],
      "execution_count": 3,
      "outputs": [
        {
          "output_type": "execute_result",
          "data": {
            "text/plain": [
              "True"
            ]
          },
          "metadata": {
            "tags": []
          },
          "execution_count": 3
        }
      ]
    },
    {
      "cell_type": "markdown",
      "metadata": {
        "id": "WTw5xvqISeMg",
        "colab_type": "text"
      },
      "source": [
        "**Step 2: Saving the CSV file as a pandas dataframe**"
      ]
    },
    {
      "cell_type": "code",
      "metadata": {
        "id": "R6hiblkgVSFH",
        "colab_type": "code",
        "outputId": "35cc7f9d-5332-49b0-824a-39621337c10c",
        "colab": {
          "base_uri": "https://localhost:8080/",
          "height": 204
        }
      },
      "source": [
        "\n",
        "import pandas as pd\n",
        "diab = pd.read_csv(path, index_col=0)\n",
        "diab.head()\n"
      ],
      "execution_count": 4,
      "outputs": [
        {
          "output_type": "execute_result",
          "data": {
            "text/html": [
              "<div>\n",
              "<style scoped>\n",
              "    .dataframe tbody tr th:only-of-type {\n",
              "        vertical-align: middle;\n",
              "    }\n",
              "\n",
              "    .dataframe tbody tr th {\n",
              "        vertical-align: top;\n",
              "    }\n",
              "\n",
              "    .dataframe thead th {\n",
              "        text-align: right;\n",
              "    }\n",
              "</style>\n",
              "<table border=\"1\" class=\"dataframe\">\n",
              "  <thead>\n",
              "    <tr style=\"text-align: right;\">\n",
              "      <th></th>\n",
              "      <th>preg</th>\n",
              "      <th>plas</th>\n",
              "      <th>pres</th>\n",
              "      <th>skin</th>\n",
              "      <th>insu</th>\n",
              "      <th>mass</th>\n",
              "      <th>pedi</th>\n",
              "      <th>age</th>\n",
              "      <th>class</th>\n",
              "    </tr>\n",
              "  </thead>\n",
              "  <tbody>\n",
              "    <tr>\n",
              "      <th>0</th>\n",
              "      <td>6</td>\n",
              "      <td>148.0</td>\n",
              "      <td>72.0</td>\n",
              "      <td>35.0</td>\n",
              "      <td>NaN</td>\n",
              "      <td>33.6</td>\n",
              "      <td>0.627</td>\n",
              "      <td>50</td>\n",
              "      <td>1</td>\n",
              "    </tr>\n",
              "    <tr>\n",
              "      <th>1</th>\n",
              "      <td>1</td>\n",
              "      <td>85.0</td>\n",
              "      <td>66.0</td>\n",
              "      <td>29.0</td>\n",
              "      <td>NaN</td>\n",
              "      <td>26.6</td>\n",
              "      <td>0.351</td>\n",
              "      <td>31</td>\n",
              "      <td>0</td>\n",
              "    </tr>\n",
              "    <tr>\n",
              "      <th>2</th>\n",
              "      <td>8</td>\n",
              "      <td>183.0</td>\n",
              "      <td>64.0</td>\n",
              "      <td>NaN</td>\n",
              "      <td>NaN</td>\n",
              "      <td>23.3</td>\n",
              "      <td>0.672</td>\n",
              "      <td>32</td>\n",
              "      <td>1</td>\n",
              "    </tr>\n",
              "    <tr>\n",
              "      <th>3</th>\n",
              "      <td>1</td>\n",
              "      <td>89.0</td>\n",
              "      <td>66.0</td>\n",
              "      <td>23.0</td>\n",
              "      <td>94.0</td>\n",
              "      <td>28.1</td>\n",
              "      <td>0.167</td>\n",
              "      <td>21</td>\n",
              "      <td>0</td>\n",
              "    </tr>\n",
              "    <tr>\n",
              "      <th>4</th>\n",
              "      <td>0</td>\n",
              "      <td>137.0</td>\n",
              "      <td>40.0</td>\n",
              "      <td>35.0</td>\n",
              "      <td>168.0</td>\n",
              "      <td>43.1</td>\n",
              "      <td>2.288</td>\n",
              "      <td>33</td>\n",
              "      <td>1</td>\n",
              "    </tr>\n",
              "  </tbody>\n",
              "</table>\n",
              "</div>"
            ],
            "text/plain": [
              "   preg   plas  pres  skin   insu  mass   pedi  age  class\n",
              "0     6  148.0  72.0  35.0    NaN  33.6  0.627   50      1\n",
              "1     1   85.0  66.0  29.0    NaN  26.6  0.351   31      0\n",
              "2     8  183.0  64.0   NaN    NaN  23.3  0.672   32      1\n",
              "3     1   89.0  66.0  23.0   94.0  28.1  0.167   21      0\n",
              "4     0  137.0  40.0  35.0  168.0  43.1  2.288   33      1"
            ]
          },
          "metadata": {
            "tags": []
          },
          "execution_count": 4
        }
      ]
    },
    {
      "cell_type": "markdown",
      "metadata": {
        "id": "QqfFBdZESk3u",
        "colab_type": "text"
      },
      "source": [
        "**Step 3: Deleting 'skin' and 'insu' columns as they are highly correlated and have a large number of NAs**"
      ]
    },
    {
      "cell_type": "code",
      "metadata": {
        "id": "65Ejsi8ZFYHp",
        "colab_type": "code",
        "outputId": "9119d821-a1ba-4fa2-9630-5c7e4c7247db",
        "colab": {
          "base_uri": "https://localhost:8080/",
          "height": 221
        }
      },
      "source": [
        "print(diab.corr())\n",
        "diab.isna().sum()\n",
        "del diab['skin']\n",
        "del diab['insu']"
      ],
      "execution_count": 5,
      "outputs": [
        {
          "output_type": "stream",
          "text": [
            "           preg      plas      pres  ...      pedi       age     class\n",
            "preg   1.000000  0.128135  0.214178  ... -0.033523  0.544341  0.221898\n",
            "plas   0.128135  1.000000  0.223192  ...  0.137246  0.267136  0.494650\n",
            "pres   0.214178  0.223192  1.000000  ... -0.002805  0.330107  0.170589\n",
            "skin   0.100239  0.228043  0.226839  ...  0.115016  0.166816  0.259491\n",
            "insu   0.082171  0.581186  0.098272  ...  0.130395  0.220261  0.303454\n",
            "mass   0.021719  0.232771  0.289230  ...  0.155382  0.025841  0.313680\n",
            "pedi  -0.033523  0.137246 -0.002805  ...  1.000000  0.033561  0.173844\n",
            "age    0.544341  0.267136  0.330107  ...  0.033561  1.000000  0.238356\n",
            "class  0.221898  0.494650  0.170589  ...  0.173844  0.238356  1.000000\n",
            "\n",
            "[9 rows x 9 columns]\n"
          ],
          "name": "stdout"
        }
      ]
    },
    {
      "cell_type": "markdown",
      "metadata": {
        "id": "r5laNWg7SzeJ",
        "colab_type": "text"
      },
      "source": [
        "**Step 4: Splitting data into training and testing. The ratio of training to testing data is split into the ratio of 80:20. Stratification enables the train_test_split function to return training and testing subsets to have same proportion of class labels as the input dataset**"
      ]
    },
    {
      "cell_type": "code",
      "metadata": {
        "id": "A0DHzzTYV488",
        "colab_type": "code",
        "colab": {}
      },
      "source": [
        "X = diab.drop(labels=['class'], axis=1) #X contains all columns except class  \n",
        "#print (X)\n",
        "y = diab.loc[:,'class'] #y contains only the class column\n",
        "#print (y)\n",
        "\n",
        "X_train, X_test, y_train, y_test = train_test_split(X, y, test_size=0.2, random_state=1,stratify=y)\n",
        "\n"
      ],
      "execution_count": 0,
      "outputs": []
    },
    {
      "cell_type": "markdown",
      "metadata": {
        "id": "wEoXzrkGT2Hw",
        "colab_type": "text"
      },
      "source": [
        "**Step 5: The imputer function replaces the missing values with the medians throughout the columns. The training set is fitted and transformed and test set is transformed to fit the training set**"
      ]
    },
    {
      "cell_type": "code",
      "metadata": {
        "id": "DpPAs8OnLMxS",
        "colab_type": "code",
        "outputId": "cce08a14-7592-4fb1-e8b9-77d84c74d9c3",
        "colab": {
          "base_uri": "https://localhost:8080/",
          "height": 71
        }
      },
      "source": [
        "imp_x = Imputer(missing_values='NaN', strategy='median', axis=0) \n",
        "X_train = imp_x.fit_transform(X_train)\n",
        "X_test = imp_x.transform(X_test)\n",
        "#print(len(y_train))"
      ],
      "execution_count": 7,
      "outputs": [
        {
          "output_type": "stream",
          "text": [
            "/usr/local/lib/python3.6/dist-packages/sklearn/utils/deprecation.py:66: DeprecationWarning: Class Imputer is deprecated; Imputer was deprecated in version 0.20 and will be removed in 0.22. Import impute.SimpleImputer from sklearn instead.\n",
            "  warnings.warn(msg, category=DeprecationWarning)\n"
          ],
          "name": "stderr"
        }
      ]
    },
    {
      "cell_type": "markdown",
      "metadata": {
        "id": "30jZkUfMUJRE",
        "colab_type": "text"
      },
      "source": [
        "**Step 6: The data is scaled using Min Max Scalar**"
      ]
    },
    {
      "cell_type": "code",
      "metadata": {
        "id": "c8utofoQLfIJ",
        "colab_type": "code",
        "colab": {}
      },
      "source": [
        "\n",
        "min_max_scaler = MinMaxScaler()\n",
        "X_train_minmax = min_max_scaler.fit_transform(X_train) #Training set gets fit and transformed.\n",
        "X_test_minmax = min_max_scaler.transform(X_test)#Test set is only transformed.\n"
      ],
      "execution_count": 0,
      "outputs": []
    },
    {
      "cell_type": "markdown",
      "metadata": {
        "id": "QOJuSYjZUZ1_",
        "colab_type": "text"
      },
      "source": [
        "**Step 7: The machine learning technique used to train the model and predict on test set is Random Forest technique. The accuracy of training is 0.99 whereas the accuracy on testing is 0.72**"
      ]
    },
    {
      "cell_type": "code",
      "metadata": {
        "id": "aHNe91uaJVba",
        "colab_type": "code",
        "outputId": "ddab7425-949e-4558-c41f-ff916b2b3127",
        "colab": {
          "base_uri": "https://localhost:8080/",
          "height": 1000
        }
      },
      "source": [
        "from sklearn.ensemble import RandomForestClassifier\n",
        "\n",
        "model = RandomForestClassifier()\n",
        "model.fit(X_train_minmax, y_train)\n",
        "\n",
        "y_pred = model.predict(X_test_minmax)\n",
        "#print(X_test_minmax)\n",
        "#print(y_test)\n",
        "\n",
        "# evaluating the model\n",
        "print(\"Training Accuracy :\", model.score(X_train_minmax, y_train))\n",
        "print(\"Testing Accuracy :\", model.score(X_test_minmax, y_test))\n",
        "\n"
      ],
      "execution_count": 10,
      "outputs": [
        {
          "output_type": "stream",
          "text": [
            "[[ 0.23529412  0.35483871  0.525       0.15132924  0.08989726  0.11666667]\n",
            " [ 0.05882353  0.63870968  0.55        0.16359918  0.07363014  0.        ]\n",
            " [ 0.05882353  0.29032258  0.575       0.26584867  0.04623288  0.03333333]\n",
            " [ 0.41176471  0.48387097  0.525       0.14314928  0.05351027  0.26666667]\n",
            " [ 0.29411765  0.52903226  0.6         0.23312883  0.15196918  0.31666667]\n",
            " [ 0.35294118  0.4516129   0.725       0.19631902  0.0697774   0.75      ]\n",
            " [ 0.05882353  0.30967742  0.4         0.02658487  0.17037671  0.06666667]\n",
            " [ 0.05882353  0.41935484  0.1         0.1002045   0.13827055  0.08333333]\n",
            " [ 0.05882353  0.82580645  0.475       0.49488753  0.26455479  0.11666667]\n",
            " [ 0.          0.37419355  0.275       0.14110429 -0.00256849  0.        ]\n",
            " [ 0.23529412  0.30967742  0.625       0.49079755  0.06549658  0.13333333]\n",
            " [ 0.05882353  0.43225806  0.4         0.11860941  0.02311644  0.03333333]\n",
            " [ 0.58823529  0.36774194  0.7         0.5603272   0.45034247  0.28333333]\n",
            " [ 0.11764706  0.29677419  0.625       0.12678937  0.07063356  0.05      ]\n",
            " [ 0.17647059  0.35483871  0.4         0.07361963  0.08347603  0.08333333]\n",
            " [ 0.23529412  0.5483871   0.375       0.19018405  0.18964041  0.16666667]\n",
            " [ 0.41176471  0.37419355  0.55        0.38854806  0.05136986  0.4       ]\n",
            " [ 0.47058824  0.57419355  0.525       0.3006135   0.07962329  0.3       ]\n",
            " [ 0.05882353  0.41935484  0.375       0.14723926  0.36943493  0.        ]\n",
            " [ 0.29411765  0.55483871  0.65        0.42740286  0.37328767  0.26666667]\n",
            " [ 0.05882353  0.8         0.725       0.34355828  0.35145548  0.51666667]\n",
            " [ 0.          0.30322581  0.625       0.29038855  0.22131849  0.1       ]\n",
            " [ 0.70588235  0.49677419  0.6         0.16973415  0.07491438  0.68333333]\n",
            " [ 0.          0.08387097  0.375       0.07157464  0.27868151  0.76666667]\n",
            " [ 0.47058824  0.41935484  0.575       0.19836401  0.2380137   0.16666667]\n",
            " [ 0.          0.41935484  0.725       0.29243354  0.33005137  0.28333333]\n",
            " [ 0.41176471  0.36129032  0.525       0.24130879  0.17123288  0.18333333]\n",
            " [ 0.05882353  0.52258065  0.5         0.12474438  0.05864726  0.06666667]\n",
            " [ 0.23529412  0.32258065  0.4375      0.13292434  0.02739726  0.        ]\n",
            " [ 0.29411765  0.59354839  0.65        0.29038855  0.2380137   0.8       ]\n",
            " [ 0.17647059  0.21935484  0.25        0.26175869  0.07020548  0.08333333]\n",
            " [ 0.05882353  0.47741935  0.475       0.28220859  0.13056507  0.01666667]\n",
            " [ 0.47058824  0.52258065  0.825       0.29038855  0.06335616  0.55      ]\n",
            " [ 0.17647059  0.45806452  0.45        0.40695297  0.02825342  0.11666667]\n",
            " [ 0.05882353  0.88387097  0.425       0.32515337  0.10445205  0.28333333]\n",
            " [ 0.76470588  0.73548387  1.05        0.49284254  0.07405822  0.38333333]\n",
            " [ 0.          0.49677419  0.45        0.32924335  0.05094178  0.2       ]\n",
            " [ 0.58823529  0.67096774  0.675       0.39672802  0.39255137  0.5       ]\n",
            " [ 0.11764706  0.30967742  0.575       0.12269939  0.69092466  0.11666667]\n",
            " [ 0.29411765  0.38709677  0.55        0.21676892  0.02953767  0.45      ]\n",
            " [ 0.17647059  0.25806452  0.475       0.2801636   0.21703767  0.06666667]\n",
            " [ 0.23529412  0.89677419  0.525       0.20858896  0.05479452  0.25      ]\n",
            " [ 0.35294118  0.47096774  0.825       0.21472393  0.03125     0.15      ]\n",
            " [ 0.11764706  0.47741935  0.625       0.50511247  0.26070205  0.        ]\n",
            " [ 0.17647059  0.52258065  0.35        0.27402863  0.02868151  0.05      ]\n",
            " [ 0.11764706  0.36129032  0.3         0.400818    0.17722603  0.05      ]\n",
            " [ 0.58823529  0.43225806  0.5         0.19018405  0.02440068  0.31666667]\n",
            " [ 0.47058824  0.13548387  0.525       0.28220859  0.22089041  0.35      ]\n",
            " [ 0.          0.61935484  0.4375      0.49897751  0.14854452  0.05      ]\n",
            " [ 0.41176471  0.92258065  0.25        0.32106339  0.31763699  0.21666667]\n",
            " [ 0.          0.36774194  0.4375      0.13087935  0.06549658  0.01666667]\n",
            " [ 0.05882353  0.44516129  0.425       0.31492843  0.19648973  0.        ]\n",
            " [ 0.29411765  0.71612903  0.675       0.4192229   0.22902397  0.21666667]\n",
            " [ 0.35294118  0.52258065  0.575       0.3190184   0.01583904  0.55      ]\n",
            " [ 0.17647059  0.36129032  0.475       0.27402863  0.3702911   0.11666667]\n",
            " [ 0.17647059  0.54193548  0.525       0.29038855  0.19905822  0.1       ]\n",
            " [ 0.05882353  0.40645161  0.525       0.25766871  0.31549658  0.05      ]\n",
            " [ 0.05882353  0.38064516  0.625       0.02453988  0.17422945  0.01666667]\n",
            " [ 0.29411765  0.6         0.975       0.62576687  0.06121575  0.26666667]\n",
            " [ 0.58823529  0.45806452  0.525       0.34969325  0.02140411  0.13333333]\n",
            " [ 0.11764706  0.23870968  0.525       0.24335378  0.19820205  0.06666667]\n",
            " [ 0.35294118  0.37419355  0.75        0.35787321  0.25256849  0.11666667]\n",
            " [ 0.          0.36774194  0.425       0.05725971  0.07191781  0.        ]\n",
            " [ 0.05882353  0.41935484  0.35        0.21063395  0.0577911   0.01666667]\n",
            " [ 0.23529412  0.98709677  0.5         0.37832311  0.96104452  0.16666667]\n",
            " [ 0.17647059  0.25806452  0.525       0.38854806  0.07833904  0.11666667]\n",
            " [ 0.05882353  0.47741935  0.225       0.13292434  0.0239726   0.01666667]\n",
            " [ 0.29411765  0.93548387  0.425       0.26584867  0.21361301  0.13333333]\n",
            " [ 0.05882353  0.29032258  0.45        0.20245399  0.03553082  0.        ]\n",
            " [ 0.          0.58709677  0.475       0.49284254  0.1202911   0.05      ]\n",
            " [ 0.23529412  0.56774194  0.525       0.3006135   0.09332192  0.03333333]\n",
            " [ 0.35294118  0.4516129   0.525       0.29038855  0.04494863  0.08333333]\n",
            " [ 0.47058824  0.39354839  0.875       0.51329243  0.06635274  0.4       ]\n",
            " [ 0.58823529  0.29677419  0.6875      0.34151329  0.3172089   0.58333333]\n",
            " [ 0.11764706  0.41935484  0.775       0.50102249  0.32577055  0.55      ]\n",
            " [ 0.11764706  0.36129032  0.45        0.3006135   0.33518836  0.11666667]\n",
            " [ 0.35294118  0.96774194  0.6         0.10838446  0.0192637   0.63333333]\n",
            " [ 0.35294118  0.66451613  0.625       0.23108384  0.04023973  0.48333333]\n",
            " [ 0.23529412  0.52258065  0.625       0.28834356  0.19349315  0.1       ]\n",
            " [ 0.23529412  0.70967742  0.525       0.26789366  0.10873288  0.26666667]\n",
            " [ 0.35294118  0.52258065  0.6         0.19222904  0.20590753  0.46666667]\n",
            " [ 0.05882353  0.58709677  0.3         0.17382413  0.25813356  0.68333333]\n",
            " [ 0.          0.66451613  0.6875      0.50306748  0.12457192  0.05      ]\n",
            " [ 0.11764706  0.48387097  0.525       0.02862986  0.32020548  0.85      ]\n",
            " [ 0.05882353  0.79354839  0.55        0.10633947  0.15539384  0.2       ]\n",
            " [ 0.23529412  0.64516129  0.65        0.41513292  0.20119863  0.26666667]\n",
            " [ 0.11764706  0.52258065  0.375       0.3190184   0.00171233  0.16666667]\n",
            " [ 0.          0.36129032  0.725       0.58486708  0.37585616  0.16666667]\n",
            " [ 0.41176471  0.88387097  0.675       0.36196319  0.21489726  0.5       ]\n",
            " [ 0.35294118  0.43225806  0.425       0.32719836  0.07534247  0.05      ]\n",
            " [ 0.05882353  0.93548387  0.375       0.24335378  0.13441781  0.63333333]\n",
            " [ 0.35294118  0.38064516  0.45        0.12474438  0.07063356  0.13333333]\n",
            " [ 0.23529412  0.42580645  0.45        0.2801636   0.16566781  0.13333333]\n",
            " [ 0.23529412  0.50322581  0.475       0.34355828  0.13270548  0.13333333]\n",
            " [ 0.58823529  0.32258065  0.525       0.1002045   0.21875     0.58333333]\n",
            " [ 0.23529412  0.45806452  0.525       0.21881391  0.125       0.41666667]\n",
            " [ 0.11764706  0.35483871  0.525       0.08179959  0.01027397  0.03333333]\n",
            " [ 0.05882353  0.33548387  1.15        0.08588957  0.05265411  0.1       ]\n",
            " [ 0.05882353  0.63870968  0.675       0.49488753  0.42465753  0.01666667]\n",
            " [ 0.58823529  0.50322581  0.6         0.19222904  0.18321918  0.4       ]\n",
            " [ 0.11764706  0.24516129  0.275       0.21063395  0.69135274  0.06666667]\n",
            " [ 0.05882353  0.43225806  0.7         0.24335378  0.02525685  0.03333333]\n",
            " [ 0.47058824  0.30322581  0.65        0.35582822  0.21532534  0.78333333]\n",
            " [ 0.76470588  0.70322581  0.725       0.45807771  0.46660959  0.3       ]\n",
            " [ 0.05882353  0.51612903  0.375       0.3599182   0.18407534  0.        ]\n",
            " [ 0.05882353  0.65806452  0.325       0.23517382  0.20547945  0.13333333]\n",
            " [ 0.17647059  0.89032258  0.55        0.25153374  0.11172945  0.13333333]\n",
            " [ 0.23529412  0.34193548  0.375       0.20449898  0.15368151  0.01666667]\n",
            " [ 0.05882353  0.29032258 -0.075       0.19631902  0.20333904  0.        ]\n",
            " [ 0.47058824  0.92903226  0.6         0.60736196  0.02268836  0.36666667]\n",
            " [ 0.17647059  0.52903226  0.725       0.43149284  0.26541096  0.1       ]\n",
            " [ 0.05882353  0.32903226  0.65        0.34355828  0.06378425  0.36666667]\n",
            " [ 0.17647059  0.29032258  0.55        0.24948875  0.19991438  0.28333333]\n",
            " [ 0.58823529  0.41290323  0.45        0.29038855  0.08047945  0.35      ]\n",
            " [ 0.11764706  0.5483871   0.525       0.41513292  0.09417808  0.33333333]\n",
            " [ 0.41176471  0.90322581  0.675       0.35378323  0.11601027  0.33333333]\n",
            " [ 0.05882353  0.60645161  0.65        0.44785276  0.06506849  0.11666667]\n",
            " [ 0.11764706  0.28387097  0.35        0.20858896  0.29195205  0.01666667]\n",
            " [ 0.70588235  0.69032258  0.5         0.48261759  0.28167808  0.28333333]\n",
            " [ 0.52941176  0.6516129   0.625       0.40286299  0.23672945  0.31666667]\n",
            " [ 0.          0.5483871   0.625       0.26584867  0.26498288  0.13333333]\n",
            " [ 0.17647059  0.23225806  0.525       0.29038855  0.0385274   0.01666667]\n",
            " [ 0.          0.32903226  0.625       0.37423313  0.10530822  0.08333333]\n",
            " [ 0.23529412  0.56129032  0.475       0.30470348  0.03253425  0.11666667]\n",
            " [ 0.11764706  0.5483871   0.675       0.200409    0.08561644  0.1       ]\n",
            " [ 0.          0.88387097  0.725       0.51329243  0.05907534  0.08333333]\n",
            " [ 0.05882353  0.56129032  0.425       0.11247444  0.13056507  0.        ]\n",
            " [ 0.35294118  0.23225806  0.45        0.16359918  0.09803082  0.33333333]\n",
            " [ 0.05882353  0.28387097  0.          0.75255624  0.17636986  0.08333333]\n",
            " [ 0.35294118  0.70967742  0.55        0.22699387  0.32320205  0.3       ]\n",
            " [ 0.          0.87096774  0.25        0.400818    0.15881849  0.01666667]\n",
            " [ 0.          0.30322581  0.475       0.44376278  0.12714041  0.06666667]\n",
            " [ 0.17647059  0.43225806  0.4         0.08997955  0.02482877  0.        ]\n",
            " [ 0.35294118  0.33548387  0.525       0.11247444  0.04537671  0.11666667]\n",
            " [ 0.29411765  0.28387097  0.6         0.19222904  0.0744863   0.26666667]\n",
            " [ 0.11764706  0.50322581  0.575       0.36196319  0.17080479  0.08333333]\n",
            " [ 0.          0.87741935  0.75        0.37423313  0.0984589   0.23333333]\n",
            " [ 0.70588235  0.4         0.625       0.11042945  0.02268836  0.38333333]\n",
            " [ 0.23529412  0.20645161  0.4         0.32310838  0.13142123  0.06666667]\n",
            " [ 0.41176471  0.5483871   0.475       0.41513292  0.15196918  0.36666667]\n",
            " [ 0.05882353  0.22580645  0.625       0.14723926  0.21361301  0.01666667]\n",
            " [ 0.41176471  0.2516129   0.6         0.22699387  0.29238014  0.25      ]\n",
            " [ 0.          0.38709677  0.425       0.31492843  0.18236301  0.01666667]\n",
            " [ 0.05882353  0.36774194  0.25        0.12269939  0.18921233  0.08333333]\n",
            " [ 0.35294118  0.38064516  0.525       0.39877301  0.10273973  0.56666667]\n",
            " [ 0.11764706  0.39354839  0.625       0.31697342  0.26840753  0.13333333]\n",
            " [ 0.05882353  0.23225806  0.55        0.24130879  0.18964041  0.01666667]\n",
            " [ 0.41176471  0.4516129   0.45        0.29856851  0.0744863   0.35      ]\n",
            " [ 0.41176471  0.59354839  0.75        0.2392638   0.05393836  0.48333333]\n",
            " [ 0.29411765  0.39354839  0.525       0.38241309  0.03210616  0.11666667]\n",
            " [ 0.29411765  0.63870968  0.6         0.54805726  0.04537671  0.43333333]\n",
            " [ 0.05882353  0.4         0.5         0.32719836  0.02482877  0.01666667]\n",
            " [ 0.17647059  0.81935484  0.525       0.30879346  0.04922945  0.05      ]\n",
            " [ 0.          0.52258065  0.825       0.08793456  0.07619863  0.        ]]\n",
            "488    0\n",
            "413    0\n",
            "112    0\n",
            "222    0\n",
            "711    0\n",
            "552    0\n",
            "607    0\n",
            "599    0\n",
            "409    1\n",
            "268    0\n",
            "350    0\n",
            "609    0\n",
            "270    1\n",
            "252    0\n",
            "348    0\n",
            "320    0\n",
            "161    0\n",
            "61     1\n",
            "382    0\n",
            "179    1\n",
            "702    1\n",
            "564    0\n",
            "582    0\n",
            "537    0\n",
            "188    1\n",
            "66     1\n",
            "15     1\n",
            "384    0\n",
            "629    0\n",
            "684    0\n",
            "      ..\n",
            "251    0\n",
            "753    1\n",
            "392    0\n",
            "310    0\n",
            "125    1\n",
            "499    0\n",
            "647    1\n",
            "452    0\n",
            "190    0\n",
            "601    0\n",
            "463    0\n",
            "700    0\n",
            "506    1\n",
            "333    0\n",
            "113    0\n",
            "693    1\n",
            "232    0\n",
            "82     0\n",
            "448    1\n",
            "51     0\n",
            "204    0\n",
            "476    1\n",
            "432    0\n",
            "64     1\n",
            "473    0\n",
            "139    0\n",
            "178    0\n",
            "654    0\n",
            "110    1\n",
            "102    0\n",
            "Name: class, Length: 154, dtype: int64\n",
            "Training Accuracy : 0.9804560260586319\n",
            "Testing Accuracy : 0.7337662337662337\n"
          ],
          "name": "stdout"
        },
        {
          "output_type": "stream",
          "text": [
            "/usr/local/lib/python3.6/dist-packages/sklearn/ensemble/forest.py:245: FutureWarning: The default value of n_estimators will change from 10 in version 0.20 to 100 in 0.22.\n",
            "  \"10 in version 0.20 to 100 in 0.22.\", FutureWarning)\n"
          ],
          "name": "stderr"
        }
      ]
    },
    {
      "cell_type": "markdown",
      "metadata": {
        "id": "YOIfEfbHU4Lx",
        "colab_type": "text"
      },
      "source": [
        "**Step 8: A confusion matrix and classification report is generated. There are 84 true negatives out of 100 samples and 27 true positives out of 54 samples. The sensitivity is 84% for control (0: Not Diabetic) but only 50% for case (1: Diabetic). The precision is 76% for control and 63% for case. 16/100 false positives and 27/54 false negatives have been reported.**"
      ]
    },
    {
      "cell_type": "code",
      "metadata": {
        "id": "Gx_j5synM0Se",
        "colab_type": "code",
        "colab": {
          "base_uri": "https://localhost:8080/",
          "height": 204
        },
        "outputId": "bce2adac-3d91-4d3e-f585-17c8be6739f6"
      },
      "source": [
        "cm = confusion_matrix(y_test, y_pred)\n",
        "print (cm)\n",
        "report = classification_report(y_test, y_pred)\n",
        "print (report)"
      ],
      "execution_count": 11,
      "outputs": [
        {
          "output_type": "stream",
          "text": [
            "[[84 16]\n",
            " [25 29]]\n",
            "              precision    recall  f1-score   support\n",
            "\n",
            "           0       0.77      0.84      0.80       100\n",
            "           1       0.64      0.54      0.59        54\n",
            "\n",
            "    accuracy                           0.73       154\n",
            "   macro avg       0.71      0.69      0.69       154\n",
            "weighted avg       0.73      0.73      0.73       154\n",
            "\n"
          ],
          "name": "stdout"
        }
      ]
    },
    {
      "cell_type": "markdown",
      "metadata": {
        "id": "cWQk34IvWGXA",
        "colab_type": "text"
      },
      "source": [
        "**Step 9: AUC is being calculated, then ROC is plotted**"
      ]
    },
    {
      "cell_type": "code",
      "metadata": {
        "id": "6L0-lNlgOwgY",
        "colab_type": "code",
        "colab": {
          "base_uri": "https://localhost:8080/",
          "height": 34
        },
        "outputId": "ab219b87-81b3-4804-ee86-f68d61b04822"
      },
      "source": [
        "probas_ = model.fit(X_train_minmax, y_train).predict_proba(X_test_minmax)\n",
        "fpr, tpr, thresholds = roc_curve(y_test, probas_[:, 1]) \n",
        "roc_auc = auc(fpr, tpr)\n",
        "print (\"AUC using predict_proba\", roc_auc)\n"
      ],
      "execution_count": 12,
      "outputs": [
        {
          "output_type": "stream",
          "text": [
            "AUC using predict_proba 0.756388888888889\n"
          ],
          "name": "stdout"
        }
      ]
    },
    {
      "cell_type": "code",
      "metadata": {
        "id": "85qsrkfRO778",
        "colab_type": "code",
        "colab": {}
      },
      "source": [
        "%matplotlib inline"
      ],
      "execution_count": 0,
      "outputs": []
    },
    {
      "cell_type": "code",
      "metadata": {
        "id": "60Jlc-knO26x",
        "colab_type": "code",
        "colab": {
          "base_uri": "https://localhost:8080/",
          "height": 295
        },
        "outputId": "1058d984-565d-4571-8169-4dd29884caea"
      },
      "source": [
        "\n",
        "plt.figure()\n",
        "plt.plot(fpr, tpr, label='ROC curve (area = %0.2f)' % roc_auc, lw=3, color =\"#0000ff\", marker='s',markerfacecolor=\"red\", markersize=2) \n",
        "plt.plot([0, 1], [0, 1], 'k--') \n",
        "\n",
        "plt.xlim([-0.005, 1.0]) \n",
        "plt.ylim([0.0, 1.005])   \n",
        "plt.xlabel('False Positive Rate')\n",
        "plt.ylabel('True Positive Rate')\n",
        "plt.title('Receiver operating characteristic example')\n",
        "plt.legend(loc=\"lower right\")\n",
        "plt.show()"
      ],
      "execution_count": 14,
      "outputs": [
        {
          "output_type": "display_data",
          "data": {
            "image/png": "[encoded data removed]",
            "text/plain": [
              "<Figure size 432x288 with 1 Axes>"
            ]
          },
          "metadata": {
            "tags": []
          }
        }
      ]
    },
    {
      "cell_type": "code",
      "metadata": {
        "id": "3S3Ns0tDOKTk",
        "colab_type": "code",
        "colab": {}
      },
      "source": [
        "##Pickling\n",
        "\n",
        "from sklearn.externals import joblib\n",
        "joblib.dump(model, 'diabetes_pickled.joblib')\n",
        "\n",
        "##Unpickling\n",
        "\n",
        "#clf = joblib.load('diabetes_pickled.joblib')\n",
        "\n",
        "##Adhoc predict ????? \n",
        "\n",
        "#adhoc_predict2 = actual_sample[[\"preg\", \"pedi\", \"age\", \"pres\"]\n",
        "#adhoc_predict2.head()"
      ],
      "execution_count": 0,
      "outputs": []
    },
    {
      "cell_type": "code",
      "metadata": {
        "id": "uc0xrj_ztZ22",
        "colab_type": "code",
        "colab": {}
      },
      "source": [
        "clf = joblib.load('diabetes_pickled.joblib')"
      ],
      "execution_count": 0,
      "outputs": []
    },
    {
      "cell_type": "code",
      "metadata": {
        "id": "3UTmpj9zt96F",
        "colab_type": "code",
        "colab": {}
      },
      "source": [
        "adhoc_predict2 = diab[[\"preg\", \"pedi\", \"age\", \"pres\",\"plas\",\"mass\"]]\n",
        "adhoc_predict2.head()"
      ],
      "execution_count": 0,
      "outputs": []
    },
    {
      "cell_type": "code",
      "metadata": {
        "id": "tD38jZgGuHV6",
        "colab_type": "code",
        "colab": {}
      },
      "source": [
        "adhoc_predict2.dropna(inplace = True)\n",
        "clf.predict(adhoc_predict2)"
      ],
      "execution_count": 0,
      "outputs": []
    }
  ]
}